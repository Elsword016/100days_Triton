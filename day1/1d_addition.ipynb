{
  "nbformat": 4,
  "nbformat_minor": 0,
  "metadata": {
    "colab": {
      "provenance": [],
      "gpuType": "T4"
    },
    "kernelspec": {
      "name": "python3",
      "display_name": "Python 3"
    },
    "language_info": {
      "name": "python"
    },
    "accelerator": "GPU"
  },
  "cells": [
    {
      "cell_type": "markdown",
      "source": [
        "## Triton day1:\n",
        "\n",
        "Triton is a framework from OpenAI designed to make it easier to write efficient GPU kernels. Unlike CUDA, which requires writing C++ code, Triton lets you write GPU code in a Python-like language while still achieving performance close to hand-optimized CUDA."
      ],
      "metadata": {
        "id": "u6HkceyRzA5I"
      }
    },
    {
      "cell_type": "code",
      "source": [
        "#lets write a simple 1d array addition on GPU\n",
        "import triton\n",
        "import triton.language as tl\n",
        "import torch"
      ],
      "metadata": {
        "id": "xdpJ-NBxzM96"
      },
      "execution_count": 2,
      "outputs": []
    },
    {
      "cell_type": "code",
      "source": [
        "@triton.jit\n",
        "def add_kernel(x,y,z, n_ele, BLOCK_SIZE: tl.constexpr): #1st vector: x, 2nd vector: y, z: x+y output vec, n_ele: no of ele in array, BLOCK_SIZE number of element each block should process\n",
        "  #first pid\n",
        "  pid = tl.program_id(0) #row wise addition\n",
        "  block_start = pid*BLOCK_SIZE #starting block\n",
        "  offsets = block_start + tl.arange(0,BLOCK_SIZE) #list of pointers\n",
        "  masks = offsets < n_ele #prevents out of bounds\n",
        "\n",
        "  #load\n",
        "  X = tl.load(x+offsets,mask=masks)\n",
        "  Y = tl.load(y+offsets,mask=masks)\n",
        "\n",
        "  #store\n",
        "  tl.store(z+offsets,X+Y,mask=masks)\n"
      ],
      "metadata": {
        "id": "cpbsa-0224DU"
      },
      "execution_count": 3,
      "outputs": []
    },
    {
      "cell_type": "code",
      "source": [
        "#launch grid\n",
        "def add(x: torch.Tensor,y: torch.Tensor):\n",
        "  output = torch.empty_like(x)\n",
        "  n_elements = output.numel()\n",
        "\n",
        "  grid = lambda meta: (triton.cdiv(n_elements, meta['BLOCK_SIZE']), )\n",
        "\n",
        "  add_kernel[grid](x,y,output,n_elements,BLOCK_SIZE=1024)\n",
        "  return output\n"
      ],
      "metadata": {
        "id": "dLA06KNc4pNq"
      },
      "execution_count": 4,
      "outputs": []
    },
    {
      "cell_type": "code",
      "source": [
        "torch.manual_seed(0)\n",
        "size = 98432\n",
        "x = torch.rand(size, device='cuda')\n",
        "y = torch.rand(size, device='cuda')\n",
        "output_torch = x + y\n",
        "output_triton = add(x, y)\n",
        "print(output_torch)\n",
        "print(output_triton)\n",
        "print(f'The maximum difference between torch and triton is '\n",
        "      f'{torch.max(torch.abs(output_torch - output_triton))}')"
      ],
      "metadata": {
        "colab": {
          "base_uri": "https://localhost:8080/"
        },
        "id": "InV-5mQo5O0-",
        "outputId": "0b41d68e-fb12-4382-9d28-fdc4e208153f"
      },
      "execution_count": 5,
      "outputs": [
        {
          "output_type": "stream",
          "name": "stdout",
          "text": [
            "tensor([1.3713, 1.3076, 0.4940,  ..., 0.4024, 1.7918, 1.0686], device='cuda:0')\n",
            "tensor([1.3713, 1.3076, 0.4940,  ..., 0.4024, 1.7918, 1.0686], device='cuda:0')\n",
            "The maximum difference between torch and triton is 0.0\n"
          ]
        }
      ]
    },
    {
      "cell_type": "code",
      "source": [
        "@triton.testing.perf_report(\n",
        "    triton.testing.Benchmark(\n",
        "        x_names=['size'],  # Argument names to use as an x-axis for the plot.\n",
        "        x_vals=[2**i for i in range(12, 28, 1)],  # Different possible values for `x_name`.\n",
        "        x_log=True,  # x axis is logarithmic.\n",
        "        line_arg='provider',  # Argument name whose value corresponds to a different line in the plot.\n",
        "        line_vals=['triton', 'torch'],  # Possible values for `line_arg`.\n",
        "        line_names=['Triton', 'Torch'],  # Label name for the lines.\n",
        "        styles=[('blue', '-'), ('green', '-')],  # Line styles.\n",
        "        ylabel='GB/s',  # Label name for the y-axis.\n",
        "        plot_name='vector-add-performance',  # Name for the plot. Used also as a file name for saving the plot.\n",
        "        args={},  # Values for function arguments not in `x_names` and `y_name`.\n",
        "    ))\n",
        "def benchmark(size, provider):\n",
        "    x = torch.rand(size, device='cuda', dtype=torch.float32)\n",
        "    y = torch.rand(size, device='cuda', dtype=torch.float32)\n",
        "    quantiles = [0.5, 0.2, 0.8]\n",
        "    if provider == 'torch':\n",
        "        ms, min_ms, max_ms = triton.testing.do_bench(lambda: x + y, quantiles=quantiles)\n",
        "    if provider == 'triton':\n",
        "        ms, min_ms, max_ms = triton.testing.do_bench(lambda: add(x, y), quantiles=quantiles)\n",
        "    gbps = lambda ms: 3 * x.numel() * x.element_size() * 1e-9 / (ms * 1e-3)\n",
        "    return gbps(ms), gbps(max_ms), gbps(min_ms)"
      ],
      "metadata": {
        "id": "qmsEfRUk5akD"
      },
      "execution_count": 10,
      "outputs": []
    },
    {
      "cell_type": "code",
      "source": [
        "benchmark.run(print_data=True, show_plots=True)"
      ],
      "metadata": {
        "colab": {
          "base_uri": "https://localhost:8080/",
          "height": 775
        },
        "id": "BAWxxYcE5pfo",
        "outputId": "87f94a8b-d749-450e-905d-04c5cb3ac506"
      },
      "execution_count": 11,
      "outputs": [
        {
          "output_type": "display_data",
          "data": {
            "text/plain": [
              "<Figure size 640x480 with 1 Axes>"
            ],
            "image/png": "[encoded data removed]"
          },
          "metadata": {}
        },
        {
          "output_type": "stream",
          "name": "stdout",
          "text": [
            "vector-add-performance:\n",
            "           size      Triton       Torch\n",
            "0        4096.0    7.245283    7.349282\n",
            "1        8192.0   14.156682   22.423358\n",
            "2       16384.0   36.141177   35.720930\n",
            "3       32768.0   63.015384   62.693880\n",
            "4       65536.0  103.696202  104.578724\n",
            "5      131072.0  152.645959  149.853661\n",
            "6      262144.0  186.181817  179.060113\n",
            "7      524288.0  207.283078  194.084891\n",
            "8     1048576.0  220.412561  221.405403\n",
            "9     2097152.0  228.282153  231.575971\n",
            "10    4194304.0  232.620583  236.307695\n",
            "11    8388608.0  235.811693  239.921289\n",
            "12   16777216.0  237.028815  241.533161\n",
            "13   33554432.0  238.534090  243.044742\n",
            "14   67108864.0  239.764709  243.845439\n",
            "15  134217728.0  240.798819  245.218787\n"
          ]
        }
      ]
    },
    {
      "cell_type": "markdown",
      "source": [
        "### Key Concepts in Writing a Kernel\n",
        "\n",
        "✅ Use `@triton.jit` to mark a function as a Triton kernel.\n",
        "\n",
        "✅ Use `tl.program_id(dim)` to determine the work assignment.\n",
        "\n",
        "✅ Use `tl.arange(start, end)` to compute memory offsets.\n",
        "\n",
        "✅ Use `tl.load()` and `tl.store()` for memory access.\n",
        "\n",
        "✅ Use `masks (mask=mask)` to avoid invalid memory access."
      ],
      "metadata": {
        "id": "2F-vi01z6V72"
      }
    },
    {
      "cell_type": "markdown",
      "source": [
        "Lets look a little bit more deeper into some of the things in the code:\n",
        "\n",
        "`tl.program_id(axis)` : Similar to the concept of threads in CUDA, the `program_id(axis)` line gives the unique ID of the current program instance.\n",
        "\n",
        "The axis argument (0, 1, etc.) determines which dimension of the grid the ID corresponds to.\n",
        "\n",
        "Since we were working with a 1D row vector, the only axis available was 0, so `program_id(0)` made sense.\n",
        "\n",
        "**Offsets**\n",
        "\n",
        "Offsets are used to compute memory addresses based on the program ID (`tl.program_id()`) and the block size. Let's look at an example based on our vector addition:\n",
        "\n",
        "\n",
        "\n",
        "```python\n",
        "pid = tl.program_id(0)  # Unique program ID\n",
        "start = pid * BLOCK_SIZE  # Start index for this block\n",
        "offsets = start + tl.arange(0, BLOCK_SIZE)  # Compute element indices\n",
        "\n",
        "```\n",
        "\n",
        "Let's say: N= 1024 and the BLOCK_SIZE=256:\n",
        "\n",
        "| pid | start = pid * BLOCK_SIZE | offsets (range)         |\n",
        "|-----|--------------------------|-------------------------|\n",
        "| 0   | 0                        | [0, 1, ..., 255]       |\n",
        "| 1   | 256                      | [256, 257, ..., 511]   |\n",
        "| 2   | 512                      | [512, 513, ..., 767]   |\n",
        "| 3   | 768                      | [768, 769, ..., 1023]                      |\n",
        "\n",
        "\n",
        "Each program instance (block) processes a separate chunk of 256 elements.\n",
        "\n",
        "**Triton `grid`**\n",
        "\n",
        "`grid` enables us to launch the triton kernel. Let's breakdown the syntax:\n",
        "\n",
        "```python\n",
        "grid = lambda meta: (triton.cdiv(n_elements, meta['BLOCK_SIZE']), )\n",
        "\n",
        "```\n",
        "- This lambda function returns a tuple containing the number of blocks in the first dimension.\n",
        "- `meta['BLOCK_SIZE']` refers to the block size used in the kernel (passed as a compile-time constant).\n",
        "- `triton.cdiv(a, b)` is ceil division, which ensures we launch enough blocks to cover all elements.\n",
        "\n",
        "With the same block size and elements we have:\n",
        "\n",
        "`grid = (triton.cdiv(1024, 256), )  # Equivalent to (ceil(1024 / 256), )` which gives us `4`. Meaning 4 blocks will be launched.\n",
        "\n",
        "\n",
        "\n",
        "\n"
      ],
      "metadata": {
        "id": "tv_TQHEQ6mka"
      }
    },
    {
      "cell_type": "code",
      "source": [],
      "metadata": {
        "id": "JyDXiPdE7Wut"
      },
      "execution_count": null,
      "outputs": []
    }
  ]
}