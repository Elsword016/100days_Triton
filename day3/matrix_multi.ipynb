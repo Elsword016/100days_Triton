{
  "nbformat": 4,
  "nbformat_minor": 0,
  "metadata": {
    "colab": {
      "provenance": [],
      "gpuType": "T4"
    },
    "kernelspec": {
      "name": "python3",
      "display_name": "Python 3"
    },
    "language_info": {
      "name": "python"
    },
    "accelerator": "GPU"
  },
  "cells": [
    {
      "cell_type": "markdown",
      "source": [
        "## Triton day2:\n",
        "\n",
        "Today I am trying to write a kernel which performs matrix additions in 2d."
      ],
      "metadata": {
        "id": "u6HkceyRzA5I"
      }
    },
    {
      "cell_type": "code",
      "source": [
        "#lets write a simple 1d array addition on GPU\n",
        "import triton\n",
        "import triton.language as tl\n",
        "import torch"
      ],
      "metadata": {
        "id": "xdpJ-NBxzM96"
      },
      "execution_count": 2,
      "outputs": []
    },
    {
      "cell_type": "code",
      "source": [
        "@triton.jit\n",
        "def mat_multi(A,B,C,M:tl.constexpr,N:tl.constexpr,\n",
        "              K:tl.constexpr,BLOCK_SIZE:tl.constexpr):\n",
        "  #A = MXK, B = KXN, C = MxN\n",
        "  pid_m = tl.program_id(0)\n",
        "  pid_n = tl.program_id(1)\n",
        "\n",
        "  start_m = pid_m*BLOCK_SIZE\n",
        "  start_n = pid_n*BLOCK_SIZE\n",
        "\n",
        "  #Row A x Col B\n",
        "  offsets_m = start_m + tl.arange(0,BLOCK_SIZE)[:,None] #row\n",
        "  offsets_n = start_n + tl.arange(0,BLOCK_SIZE)[None,:] #col\n",
        "  mask = (offsets_m < M) & (offsets_n < N)\n",
        "  #C[i,j]. =sum (A[i,k]X B[k,j])\n",
        "  s = tl.zeros((BLOCK_SIZE,BLOCK_SIZE),dtype=tl.float32)\n",
        "\n",
        "  for k in range(K):\n",
        "    a = tl.load(A + offsets_m * K + k, mask=offsets_m < M) #load row\n",
        "    b = tl.load(B + k * N + offsets_n, mask=offsets_n < N)\n",
        "    multi = a * b\n",
        "    s = s+multi\n",
        "\n",
        "  offsets_c = offsets_m * N + offsets_n # MxN\n",
        "  tl.store(C+offsets_c,s,mask=mask)\n"
      ],
      "metadata": {
        "id": "otcGvd536eUA"
      },
      "execution_count": 4,
      "outputs": []
    },
    {
      "cell_type": "code",
      "source": [
        "def matmul(x: torch.Tensor, y: torch.Tensor):\n",
        "    M, K = x.shape\n",
        "    _, N = y.shape\n",
        "    output = torch.empty((M, N), dtype=torch.float32, device='cuda')\n",
        "    grid = lambda meta: (\n",
        "        triton.cdiv(M, meta['BLOCK_SIZE']),\n",
        "        triton.cdiv(N, meta['BLOCK_SIZE'])\n",
        "    )\n",
        "    mat_multi[grid](x, y, output, M, N, K, BLOCK_SIZE=32)\n",
        "    return output"
      ],
      "metadata": {
        "id": "3nF2mF3-_Ovx"
      },
      "execution_count": 5,
      "outputs": []
    },
    {
      "cell_type": "code",
      "source": [
        "torch.manual_seed(0)\n",
        "size = 1024\n",
        "x = torch.rand((size,size), device='cuda')\n",
        "y = torch.rand((size,size), device='cuda')\n",
        "output_torch = torch.matmul(x,y)\n",
        "output_triton = matmul(x,y)\n",
        "print(output_torch)\n",
        "print(output_triton)\n",
        "print(f'The maximum difference between torch and triton is '\n",
        "      f'{torch.max(torch.abs(output_torch - output_triton))}')"
      ],
      "metadata": {
        "colab": {
          "base_uri": "https://localhost:8080/"
        },
        "id": "RtKftfQ4_qmG",
        "outputId": "72e8095e-28b9-4079-90e2-106c76a7ec8d"
      },
      "execution_count": 6,
      "outputs": [
        {
          "output_type": "stream",
          "name": "stdout",
          "text": [
            "tensor([[257.0567, 254.9195, 270.1586,  ..., 262.4122, 264.4139, 262.3476],\n",
            "        [246.1044, 240.2660, 258.0411,  ..., 255.0867, 250.7366, 250.8000],\n",
            "        [250.8618, 249.0487, 264.7836,  ..., 262.0509, 256.3619, 254.6607],\n",
            "        ...,\n",
            "        [256.7550, 256.9711, 266.1502,  ..., 266.6961, 263.1709, 265.1845],\n",
            "        [246.6211, 252.8177, 263.5454,  ..., 256.3639, 254.2119, 258.7431],\n",
            "        [249.8079, 255.6748, 261.2682,  ..., 257.5836, 257.4061, 253.6339]],\n",
            "       device='cuda:0')\n",
            "tensor([[257.0568, 254.9195, 270.1587,  ..., 262.4123, 264.4137, 262.3475],\n",
            "        [246.1043, 240.2660, 258.0412,  ..., 255.0866, 250.7366, 250.8001],\n",
            "        [250.8618, 249.0486, 264.7838,  ..., 262.0508, 256.3618, 254.6608],\n",
            "        ...,\n",
            "        [256.7550, 256.9709, 266.1502,  ..., 266.6962, 263.1707, 265.1844],\n",
            "        [246.6212, 252.8177, 263.5455,  ..., 256.3639, 254.2119, 258.7430],\n",
            "        [249.8078, 255.6747, 261.2681,  ..., 257.5835, 257.4060, 253.6339]],\n",
            "       device='cuda:0')\n",
            "The maximum difference between torch and triton is 0.000579833984375\n"
          ]
        }
      ]
    },
    {
      "cell_type": "code",
      "source": [
        "@triton.testing.perf_report(\n",
        "    triton.testing.Benchmark(\n",
        "        x_names=['size'],  # Argument names to use as an x-axis for the plot.\n",
        "        x_vals=[2**i for i in range(6, 12)],  # Matrix size: (2^6 x 2^6) → (2^12 x 2^12)\n",
        "        x_log=True,  # x-axis is logarithmic.\n",
        "        line_arg='provider',  # Argument name for different providers (Triton, Torch).\n",
        "        line_vals=['triton', 'torch'],  # Providers to compare.\n",
        "        line_names=['Triton', 'Torch'],  # Line labels.\n",
        "        styles=[('blue', '-'), ('green', '-')],  # Line styles.\n",
        "        ylabel='GFLOP/s',  # Y-axis label (performance metric).\n",
        "        plot_name='matrix-mul-performance',  # Plot filename.\n",
        "        args={},  # Default arguments for function.\n",
        "    ))\n",
        "def benchmark(size, provider):\n",
        "    x = torch.rand((size, size), device='cuda', dtype=torch.float32)\n",
        "    y = torch.rand((size, size), device='cuda', dtype=torch.float32)\n",
        "    c = torch.empty((size, size), device='cuda', dtype=torch.float32)\n",
        "    quantiles = [0.5, 0.2, 0.8]\n",
        "\n",
        "    if provider == 'torch':\n",
        "        ms, min_ms, max_ms = triton.testing.do_bench(lambda: torch.matmul(x, y), quantiles=quantiles)\n",
        "    elif provider == 'triton':\n",
        "        # Call the matmul function instead of calling the triton kernel directly\n",
        "        ms, min_ms, max_ms = triton.testing.do_bench(lambda: matmul(x, y), quantiles=quantiles)\n",
        "\n",
        "    # Compute FLOP/s (Total Floating-Point Operations / Time)\n",
        "    flops = 2 * (size ** 3)  # Matrix multiplication requires 2 * M * N * K operations\n",
        "    gflops = lambda ms: flops * 1e-9 / (ms * 1e-3)\n",
        "\n",
        "    return gflops(ms), gflops(max_ms), gflops(min_ms)"
      ],
      "metadata": {
        "id": "qmsEfRUk5akD"
      },
      "execution_count": 17,
      "outputs": []
    },
    {
      "cell_type": "code",
      "source": [
        "benchmark.run(show_plots=True)"
      ],
      "metadata": {
        "colab": {
          "base_uri": "https://localhost:8080/",
          "height": 454
        },
        "id": "BAWxxYcE5pfo",
        "outputId": "21a4ac72-ca2f-4982-e8ad-e3870e2ba8ee"
      },
      "execution_count": 18,
      "outputs": [
        {
          "output_type": "display_data",
          "data": {
            "text/plain": [
              "<Figure size 640x480 with 1 Axes>"
            ],
            "image/png": "[encoded data removed]"
          },
          "metadata": {}
        }
      ]
    },
    {
      "cell_type": "markdown",
      "source": [
        "## Intuition behind matmul\n",
        "\n",
        "The matrix multiplication can be given as:\n",
        "\n",
        "$C_{i,j} = \\sum_{k=0}^{K-1} A_{i,k} \\times B_{k,j}$\n",
        "\n",
        "We are looping over k and accumulating the product of corresponding elements from A and B.\n"
      ],
      "metadata": {
        "id": "Ns9lyCbxP6Tm"
      }
    },
    {
      "cell_type": "code",
      "source": [],
      "metadata": {
        "id": "3j3QV_cTPQrF"
      },
      "execution_count": null,
      "outputs": []
    }
  ]
}